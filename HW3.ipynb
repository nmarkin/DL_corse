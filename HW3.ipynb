{
  "nbformat": 4,
  "nbformat_minor": 0,
  "metadata": {
    "accelerator": "GPU",
    "colab": {
      "name": "HW3.ipynb",
      "provenance": [],
      "collapsed_sections": [],
      "mount_file_id": "1K-6pBaRHKYZx_lnXXxXZdgOl2l8MJuXb",
      "authorship_tag": "ABX9TyPsLMUDgOmqpImFc7kBfqFb",
      "include_colab_link": true
    },
    "kernelspec": {
      "display_name": "Python 3",
      "name": "python3"
    },
    "widgets": {
      "application/vnd.jupyter.widget-state+json": {
        "8615740eb597414fa250d64cff8e9fac": {
          "model_module": "@jupyter-widgets/controls",
          "model_name": "HBoxModel",
          "state": {
            "_view_name": "HBoxView",
            "_dom_classes": [],
            "_model_name": "HBoxModel",
            "_view_module": "@jupyter-widgets/controls",
            "_model_module_version": "1.5.0",
            "_view_count": null,
            "_view_module_version": "1.5.0",
            "box_style": "",
            "layout": "IPY_MODEL_ad7942143bc04410b9c2b3ccc91b69c5",
            "_model_module": "@jupyter-widgets/controls",
            "children": [
              "IPY_MODEL_6d3d7c55f40f436e999a03c04101e449",
              "IPY_MODEL_4e85bd5797b046f788d0feaf55577294"
            ]
          }
        },
        "ad7942143bc04410b9c2b3ccc91b69c5": {
          "model_module": "@jupyter-widgets/base",
          "model_name": "LayoutModel",
          "state": {
            "_view_name": "LayoutView",
            "grid_template_rows": null,
            "right": null,
            "justify_content": null,
            "_view_module": "@jupyter-widgets/base",
            "overflow": null,
            "_model_module_version": "1.2.0",
            "_view_count": null,
            "flex_flow": null,
            "width": null,
            "min_width": null,
            "border": null,
            "align_items": null,
            "bottom": null,
            "_model_module": "@jupyter-widgets/base",
            "top": null,
            "grid_column": null,
            "overflow_y": null,
            "overflow_x": null,
            "grid_auto_flow": null,
            "grid_area": null,
            "grid_template_columns": null,
            "flex": null,
            "_model_name": "LayoutModel",
            "justify_items": null,
            "grid_row": null,
            "max_height": null,
            "align_content": null,
            "visibility": null,
            "align_self": null,
            "height": null,
            "min_height": null,
            "padding": null,
            "grid_auto_rows": null,
            "grid_gap": null,
            "max_width": null,
            "order": null,
            "_view_module_version": "1.2.0",
            "grid_template_areas": null,
            "object_position": null,
            "object_fit": null,
            "grid_auto_columns": null,
            "margin": null,
            "display": null,
            "left": null
          }
        },
        "6d3d7c55f40f436e999a03c04101e449": {
          "model_module": "@jupyter-widgets/controls",
          "model_name": "FloatProgressModel",
          "state": {
            "_view_name": "ProgressView",
            "style": "IPY_MODEL_ade87de0cb3c4d65a2585dd11b774fee",
            "_dom_classes": [],
            "description": "100%",
            "_model_name": "FloatProgressModel",
            "bar_style": "success",
            "max": 46827520,
            "_view_module": "@jupyter-widgets/controls",
            "_model_module_version": "1.5.0",
            "value": 46827520,
            "_view_count": null,
            "_view_module_version": "1.5.0",
            "orientation": "horizontal",
            "min": 0,
            "description_tooltip": null,
            "_model_module": "@jupyter-widgets/controls",
            "layout": "IPY_MODEL_17476a0123ef4e4a9f4f9aea9a8de748"
          }
        },
        "4e85bd5797b046f788d0feaf55577294": {
          "model_module": "@jupyter-widgets/controls",
          "model_name": "HTMLModel",
          "state": {
            "_view_name": "HTMLView",
            "style": "IPY_MODEL_d381b4f963844d75b0db6472c558befb",
            "_dom_classes": [],
            "description": "",
            "_model_name": "HTMLModel",
            "placeholder": "​",
            "_view_module": "@jupyter-widgets/controls",
            "_model_module_version": "1.5.0",
            "value": " 44.7M/44.7M [00:00&lt;00:00, 111MB/s]",
            "_view_count": null,
            "_view_module_version": "1.5.0",
            "description_tooltip": null,
            "_model_module": "@jupyter-widgets/controls",
            "layout": "IPY_MODEL_e77b999e56e94f5887e14de2d2181d58"
          }
        },
        "ade87de0cb3c4d65a2585dd11b774fee": {
          "model_module": "@jupyter-widgets/controls",
          "model_name": "ProgressStyleModel",
          "state": {
            "_view_name": "StyleView",
            "_model_name": "ProgressStyleModel",
            "description_width": "initial",
            "_view_module": "@jupyter-widgets/base",
            "_model_module_version": "1.5.0",
            "_view_count": null,
            "_view_module_version": "1.2.0",
            "bar_color": null,
            "_model_module": "@jupyter-widgets/controls"
          }
        },
        "17476a0123ef4e4a9f4f9aea9a8de748": {
          "model_module": "@jupyter-widgets/base",
          "model_name": "LayoutModel",
          "state": {
            "_view_name": "LayoutView",
            "grid_template_rows": null,
            "right": null,
            "justify_content": null,
            "_view_module": "@jupyter-widgets/base",
            "overflow": null,
            "_model_module_version": "1.2.0",
            "_view_count": null,
            "flex_flow": null,
            "width": null,
            "min_width": null,
            "border": null,
            "align_items": null,
            "bottom": null,
            "_model_module": "@jupyter-widgets/base",
            "top": null,
            "grid_column": null,
            "overflow_y": null,
            "overflow_x": null,
            "grid_auto_flow": null,
            "grid_area": null,
            "grid_template_columns": null,
            "flex": null,
            "_model_name": "LayoutModel",
            "justify_items": null,
            "grid_row": null,
            "max_height": null,
            "align_content": null,
            "visibility": null,
            "align_self": null,
            "height": null,
            "min_height": null,
            "padding": null,
            "grid_auto_rows": null,
            "grid_gap": null,
            "max_width": null,
            "order": null,
            "_view_module_version": "1.2.0",
            "grid_template_areas": null,
            "object_position": null,
            "object_fit": null,
            "grid_auto_columns": null,
            "margin": null,
            "display": null,
            "left": null
          }
        },
        "d381b4f963844d75b0db6472c558befb": {
          "model_module": "@jupyter-widgets/controls",
          "model_name": "DescriptionStyleModel",
          "state": {
            "_view_name": "StyleView",
            "_model_name": "DescriptionStyleModel",
            "description_width": "",
            "_view_module": "@jupyter-widgets/base",
            "_model_module_version": "1.5.0",
            "_view_count": null,
            "_view_module_version": "1.2.0",
            "_model_module": "@jupyter-widgets/controls"
          }
        },
        "e77b999e56e94f5887e14de2d2181d58": {
          "model_module": "@jupyter-widgets/base",
          "model_name": "LayoutModel",
          "state": {
            "_view_name": "LayoutView",
            "grid_template_rows": null,
            "right": null,
            "justify_content": null,
            "_view_module": "@jupyter-widgets/base",
            "overflow": null,
            "_model_module_version": "1.2.0",
            "_view_count": null,
            "flex_flow": null,
            "width": null,
            "min_width": null,
            "border": null,
            "align_items": null,
            "bottom": null,
            "_model_module": "@jupyter-widgets/base",
            "top": null,
            "grid_column": null,
            "overflow_y": null,
            "overflow_x": null,
            "grid_auto_flow": null,
            "grid_area": null,
            "grid_template_columns": null,
            "flex": null,
            "_model_name": "LayoutModel",
            "justify_items": null,
            "grid_row": null,
            "max_height": null,
            "align_content": null,
            "visibility": null,
            "align_self": null,
            "height": null,
            "min_height": null,
            "padding": null,
            "grid_auto_rows": null,
            "grid_gap": null,
            "max_width": null,
            "order": null,
            "_view_module_version": "1.2.0",
            "grid_template_areas": null,
            "object_position": null,
            "object_fit": null,
            "grid_auto_columns": null,
            "margin": null,
            "display": null,
            "left": null
          }
        }
      }
    }
  },
  "cells": [
    {
      "cell_type": "markdown",
      "metadata": {
        "id": "view-in-github",
        "colab_type": "text"
      },
      "source": [
        "<a href=\"https://colab.research.google.com/github/nmarkin/DL_corse/blob/main/HW3.ipynb\" target=\"_parent\"><img src=\"https://colab.research.google.com/assets/colab-badge.svg\" alt=\"Open In Colab\"/></a>"
      ]
    },
    {
      "cell_type": "code",
      "metadata": {
        "id": "xdfaofDzn9R-"
      },
      "source": [
        "from google.colab import drive\r\n",
        "import os\r\n",
        "import re\r\n",
        "import numpy as np\r\n",
        "import cv2"
      ],
      "execution_count": 1,
      "outputs": []
    },
    {
      "cell_type": "code",
      "metadata": {
        "id": "lg_GhadwoWNM"
      },
      "source": [
        "!unzip /content/drive/MyDrive/DL_HSE/tiny-imagenet-2020.zip"
      ],
      "execution_count": null,
      "outputs": []
    },
    {
      "cell_type": "code",
      "metadata": {
        "id": "CViQ83Iwun-m"
      },
      "source": [
        "def read_files(X, Y, path):\r\n",
        "    files = os.listdir(path)\r\n",
        "    for folder in sorted(files):\r\n",
        "        num = int(re.split(r'_', folder)[-1])\r\n",
        "        for name in os.listdir(path + '/' + folder):\r\n",
        "            img = cv2.imread(path + '/' + folder + '/' + name)\r\n",
        "            if img.shape != 0:\r\n",
        "                X.append(img)\r\n",
        "                Y.append(num)\r\n",
        "        # print(num)\r\n",
        "    return X, Y"
      ],
      "execution_count": 3,
      "outputs": []
    },
    {
      "cell_type": "code",
      "metadata": {
        "id": "dchyEI_dsf36"
      },
      "source": [
        "path = \"tiny-imagenet-200\"\r\n",
        "X_train, X_test = [], []\r\n",
        "Y_train, Y_test = [], []\r\n",
        "\r\n",
        "X_train, Y_train = read_files(X_train, Y_train, path + '/train')\r\n",
        "X_test, Y_test = read_files(X_test, Y_test, path + '/val')"
      ],
      "execution_count": 4,
      "outputs": []
    },
    {
      "cell_type": "code",
      "metadata": {
        "colab": {
          "base_uri": "https://localhost:8080/"
        },
        "id": "DaNAwF1j0noJ",
        "outputId": "f1942e6e-e06b-477a-e118-badf758d20bc"
      },
      "source": [
        "X_train = np.array(X_train)\r\n",
        "X_test = np.array(X_test)\r\n",
        "\r\n",
        "Y_train = np.array(Y_train)\r\n",
        "Y_test = np.array(Y_test)\r\n",
        "print(X_train.shape, Y_train.shape)"
      ],
      "execution_count": 5,
      "outputs": [
        {
          "output_type": "stream",
          "text": [
            "(100000, 64, 64, 3) (100000,)\n"
          ],
          "name": "stdout"
        }
      ]
    },
    {
      "cell_type": "code",
      "metadata": {
        "colab": {
          "base_uri": "https://localhost:8080/",
          "height": 285
        },
        "id": "1h1ZdDSuRn8G",
        "outputId": "20c09024-9f90-4808-fc65-898c84c35f53"
      },
      "source": [
        "import skimage\r\n",
        "import matplotlib.pyplot as plt\r\n",
        "%matplotlib inline\r\n",
        "\r\n",
        "# image = skimage.img_as_ubyte()\r\n",
        "plt.imshow(X_train[0])"
      ],
      "execution_count": 6,
      "outputs": [
        {
          "output_type": "execute_result",
          "data": {
            "text/plain": [
              "<matplotlib.image.AxesImage at 0x7f5de8126a20>"
            ]
          },
          "metadata": {
            "tags": []
          },
          "execution_count": 6
        },
        {
          "output_type": "display_data",
          "data": {
            "image/png": "[encoded data removed]",
            "text/plain": [
              "<Figure size 432x288 with 1 Axes>"
            ]
          },
          "metadata": {
            "tags": [],
            "needs_background": "light"
          }
        }
      ]
    },
    {
      "cell_type": "code",
      "metadata": {
        "id": "JbcFq3SSGxJG"
      },
      "source": [
        "import torch\r\n",
        "from torchvision import transforms as T\r\n",
        "from torch.utils.data import DataLoader, Dataset\r\n",
        "\r\n",
        "\r\n",
        "transform = T.Compose([T.ToTensor(),\r\n",
        "                       T.Resize(256),\r\n",
        "                       T.CenterCrop(224),\r\n",
        "                       T.Normalize(mean=[0.485, 0.456, 0.406],\r\n",
        "                                 std=[0.229, 0.224, 0.225])])\r\n",
        "\r\n",
        "class ImageDataset(Dataset):\r\n",
        "    def __init__(self, X, Y, transform):\r\n",
        "        self.x = X\r\n",
        "        self.y = Y\r\n",
        "        self.transform = transform\r\n",
        "\r\n",
        "    def __getitem__(self, index):\r\n",
        "        img = self.x[index]\r\n",
        "        if self.transform:\r\n",
        "            img = self.transform(img)\r\n",
        "        return img, self.y[index]\r\n",
        "\r\n",
        "    def __len__(self):\r\n",
        "        return len(self.x)"
      ],
      "execution_count": 7,
      "outputs": []
    },
    {
      "cell_type": "code",
      "metadata": {
        "id": "yVlFOPEJqsDc"
      },
      "source": [
        "train_dataset = ImageDataset(X_train, Y_train, transform)\r\n",
        "test_dataset = ImageDataset(X_test, Y_test, transform)\r\n",
        "\r\n",
        "train_loader = DataLoader(dataset=train_dataset, batch_size=512, shuffle=True, drop_last=True)\r\n",
        "test_loader = DataLoader(dataset=test_dataset, batch_size=512, shuffle=True, drop_last=True)"
      ],
      "execution_count": 8,
      "outputs": []
    },
    {
      "cell_type": "code",
      "metadata": {
        "colab": {
          "base_uri": "https://localhost:8080/"
        },
        "id": "7pOkQP7wq7d6",
        "outputId": "ea83275d-6633-4832-84a7-731c923946ca"
      },
      "source": [
        "for x, y in train_loader:\r\n",
        "    print(x.shape, y.shape)\r\n",
        "    break"
      ],
      "execution_count": 9,
      "outputs": [
        {
          "output_type": "stream",
          "text": [
            "torch.Size([512, 3, 224, 224]) torch.Size([512])\n"
          ],
          "name": "stdout"
        }
      ]
    },
    {
      "cell_type": "code",
      "metadata": {
        "colab": {
          "base_uri": "https://localhost:8080/"
        },
        "id": "8O6PypHQq_Ux",
        "outputId": "44daae05-6968-4e00-f6c5-565bc34b70ee"
      },
      "source": [
        "for x, y in test_loader:\r\n",
        "    print(x.shape,y.shape)\r\n",
        "    break"
      ],
      "execution_count": 10,
      "outputs": [
        {
          "output_type": "stream",
          "text": [
            "torch.Size([512, 3, 224, 224]) torch.Size([512])\n"
          ],
          "name": "stdout"
        }
      ]
    },
    {
      "cell_type": "code",
      "metadata": {
        "colab": {
          "base_uri": "https://localhost:8080/",
          "height": 84,
          "referenced_widgets": [
            "8615740eb597414fa250d64cff8e9fac",
            "ad7942143bc04410b9c2b3ccc91b69c5",
            "6d3d7c55f40f436e999a03c04101e449",
            "4e85bd5797b046f788d0feaf55577294",
            "ade87de0cb3c4d65a2585dd11b774fee",
            "17476a0123ef4e4a9f4f9aea9a8de748",
            "d381b4f963844d75b0db6472c558befb",
            "e77b999e56e94f5887e14de2d2181d58"
          ]
        },
        "id": "heGecga7rBV9",
        "outputId": "2fed9ae9-c5fd-4241-bced-af0ec6ae9417"
      },
      "source": [
        "import torchvision.models as models\r\n",
        "import torch.optim as optim\r\n",
        "\r\n",
        "model = models.resnet18(pretrained=True)\r\n",
        "_ = model.cuda()\r\n",
        "\r\n",
        "criterion = torch.nn.CrossEntropyLoss()\r\n",
        "optimizer = optim.Adam(model.parameters(), 1e-3)\r\n",
        "num_epochs = 20"
      ],
      "execution_count": 11,
      "outputs": [
        {
          "output_type": "stream",
          "text": [
            "Downloading: \"https://download.pytorch.org/models/resnet18-5c106cde.pth\" to /root/.cache/torch/hub/checkpoints/resnet18-5c106cde.pth\n"
          ],
          "name": "stderr"
        },
        {
          "output_type": "display_data",
          "data": {
            "application/vnd.jupyter.widget-view+json": {
              "model_id": "8615740eb597414fa250d64cff8e9fac",
              "version_minor": 0,
              "version_major": 2
            },
            "text/plain": [
              "HBox(children=(FloatProgress(value=0.0, max=46827520.0), HTML(value='')))"
            ]
          },
          "metadata": {
            "tags": []
          }
        },
        {
          "output_type": "stream",
          "text": [
            "\n"
          ],
          "name": "stdout"
        }
      ]
    },
    {
      "cell_type": "code",
      "metadata": {
        "id": "RKCNwMl1rUiZ",
        "colab": {
          "base_uri": "https://localhost:8080/",
          "height": 1000
        },
        "outputId": "41b19ab2-f288-4043-94cb-b04c2c610b21"
      },
      "source": [
        "from IPython.display import clear_output\r\n",
        "\r\n",
        "hist = {\"train_loss\": [],\r\n",
        "        \"train_acc\": [],\r\n",
        "        \"val_loss\": [],\r\n",
        "        \"val_acc\": []}\r\n",
        "\r\n",
        "for i in range(num_epochs):\r\n",
        "    if i>0:\r\n",
        "         print(\"Epoch %d/%d\\t Loss mean: %f\\t Accuracy mean: %f\"% \\\r\n",
        "               (i, num_epochs, epoch_loss, epoch_acc))\r\n",
        "         print(\"Epoch %d/%d\\t Val Loss mean: %f\\t Val Accuracy mean: %f\"% \\\r\n",
        "               (i, num_epochs, val_loss, val_acc))\r\n",
        "    \r\n",
        "         plt.figure(figsize=(16, 6))\r\n",
        "         plt.subplot(121)\r\n",
        "         plt.plot(hist['train_loss'], label='train')\r\n",
        "         plt.plot(hist['val_loss'], label='val')\r\n",
        "         plt.legend()\r\n",
        "         plt.grid()\r\n",
        "        \r\n",
        "         plt.subplot(122)\r\n",
        "         plt.plot(hist['train_acc'], label='train_acc')\r\n",
        "         plt.plot(hist['val_acc'], label='val_acc')\r\n",
        "         plt.legend()\r\n",
        "         plt.grid()\r\n",
        "         plt.show()\r\n",
        "\r\n",
        "    epoch_losses = []\r\n",
        "    epoch_acc = []\r\n",
        "    val_losses = []\r\n",
        "    val_acc = []\r\n",
        "    \r\n",
        "    model.train()\r\n",
        "    for k, (X, Y) in enumerate(train_loader):  \r\n",
        "        optimizer.zero_grad()\r\n",
        "        y_pred = model(X.cuda())\r\n",
        "        loss = criterion(y_pred, Y.cuda())\r\n",
        "        \r\n",
        "        loss.backward()\r\n",
        "        optimizer.step()\r\n",
        "        epoch_losses.append(loss.item())\r\n",
        "        acc = (torch.argmax(y_pred.detach().cpu(), 1) == Y.cpu()).sum()/len(Y)\r\n",
        "        epoch_acc.append(acc)\r\n",
        "        \r\n",
        "        if k%5 == 0:\r\n",
        "            print(\"Epoch: %d \\tLoss: %f\"%(i+1, loss.item()))\r\n",
        "    \r\n",
        "    epoch_loss = np.mean(np.array(epoch_losses))\r\n",
        "    epoch_acc = np.mean(np.array(epoch_acc))\r\n",
        "    hist['train_acc'].append(epoch_acc)\r\n",
        "    hist['train_loss'].append(epoch_loss)\r\n",
        "\r\n",
        "    with torch.no_grad():\r\n",
        "        model.eval()\r\n",
        "        for k, (X, Y) in enumerate(test_loader):\r\n",
        "            y_pred = model(X.cuda())\r\n",
        "            loss = criterion(y_pred, Y.cuda())\r\n",
        "            acc = (torch.argmax(y_pred.detach().cpu(), 1) == Y.cpu()).sum()/len(Y)\r\n",
        "            val_losses.append(loss.item())\r\n",
        "            val_acc.append(acc)\r\n",
        "            \r\n",
        "            \r\n",
        "            \r\n",
        "    val_loss = np.mean(np.array(val_losses))\r\n",
        "    val_acc = np.mean(np.array(val_acc))\r\n",
        "    hist['val_loss'].append(val_loss)\r\n",
        "    hist['val_acc'].append(val_acc)\r\n",
        "    if i < (num_epochs - 1):\r\n",
        "        clear_output()\r\n",
        "    "
      ],
      "execution_count": 12,
      "outputs": [
        {
          "output_type": "stream",
          "text": [
            "Epoch 19/20\t Loss mean: 0.001310\t Accuracy mean: 0.999710\n",
            "Epoch 19/20\t Val Loss mean: 2.168487\t Val Accuracy mean: 0.603824\n"
          ],
          "name": "stdout"
        },
        {
          "output_type": "display_data",
          "data": {
            "image/png": "[encoded data removed]",
            "text/plain": [
              "<Figure size 1152x432 with 2 Axes>"
            ]
          },
          "metadata": {
            "tags": []
          }
        },
        {
          "output_type": "stream",
          "text": [
            "Epoch: 20 \tLoss: 0.000400\n",
            "Epoch: 20 \tLoss: 0.000437\n",
            "Epoch: 20 \tLoss: 0.000477\n",
            "Epoch: 20 \tLoss: 0.000439\n",
            "Epoch: 20 \tLoss: 0.000416\n",
            "Epoch: 20 \tLoss: 0.000414\n",
            "Epoch: 20 \tLoss: 0.000384\n",
            "Epoch: 20 \tLoss: 0.000445\n",
            "Epoch: 20 \tLoss: 0.005743\n",
            "Epoch: 20 \tLoss: 0.000425\n",
            "Epoch: 20 \tLoss: 0.000379\n",
            "Epoch: 20 \tLoss: 0.000387\n",
            "Epoch: 20 \tLoss: 0.000390\n",
            "Epoch: 20 \tLoss: 0.000436\n",
            "Epoch: 20 \tLoss: 0.000421\n",
            "Epoch: 20 \tLoss: 0.000406\n",
            "Epoch: 20 \tLoss: 0.000389\n",
            "Epoch: 20 \tLoss: 0.000341\n",
            "Epoch: 20 \tLoss: 0.000371\n",
            "Epoch: 20 \tLoss: 0.004493\n",
            "Epoch: 20 \tLoss: 0.005200\n",
            "Epoch: 20 \tLoss: 0.000431\n",
            "Epoch: 20 \tLoss: 0.000424\n",
            "Epoch: 20 \tLoss: 0.000390\n",
            "Epoch: 20 \tLoss: 0.000390\n",
            "Epoch: 20 \tLoss: 0.000464\n",
            "Epoch: 20 \tLoss: 0.000355\n",
            "Epoch: 20 \tLoss: 0.000406\n",
            "Epoch: 20 \tLoss: 0.004638\n",
            "Epoch: 20 \tLoss: 0.000453\n",
            "Epoch: 20 \tLoss: 0.000407\n",
            "Epoch: 20 \tLoss: 0.000374\n",
            "Epoch: 20 \tLoss: 0.000755\n",
            "Epoch: 20 \tLoss: 0.000405\n",
            "Epoch: 20 \tLoss: 0.007151\n",
            "Epoch: 20 \tLoss: 0.000365\n",
            "Epoch: 20 \tLoss: 0.004741\n",
            "Epoch: 20 \tLoss: 0.000373\n",
            "Epoch: 20 \tLoss: 0.000445\n"
          ],
          "name": "stdout"
        }
      ]
    },
    {
      "cell_type": "code",
      "metadata": {
        "id": "TIdO6XmeqBGY"
      },
      "source": [
        ""
      ],
      "execution_count": null,
      "outputs": []
    }
  ]
}